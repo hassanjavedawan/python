{
  "cells": [
    {
      "cell_type": "markdown",
      "metadata": {
        "colab_type": "text",
        "id": "view-in-github"
      },
      "source": [
        "<a href=\"https://colab.research.google.com/github/Shazra97/Python/blob/master/ifelse.ipynb\" target=\"_parent\"><img src=\"https://colab.research.google.com/assets/colab-badge.svg\" alt=\"Open In Colab\"/></a>"
      ]
    },
    {
      "cell_type": "code",
      "execution_count": 1,
      "metadata": {
        "colab": {
          "base_uri": "https://localhost:8080/"
        },
        "id": "G7ive0QDuSLC",
        "outputId": "b3fb0081-ccab-49fe-bc32-5ed7b9200ac5"
      },
      "outputs": [
        {
          "name": "stdout",
          "output_type": "stream",
          "text": [
            "b is greater than a\n"
          ]
        }
      ],
      "source": [
        "x = 33\n",
        "y = 200\n",
        "if y > x: #Python relies on indentation (whitespace at the beginning of a line) to define scope in the code.\n",
        " print (\"y is greater than x\")"
      ]
    },
    {
      "cell_type": "code",
      "execution_count": 9,
      "metadata": {
        "colab": {
          "base_uri": "https://localhost:8080/"
        },
        "id": "nfAVDQTrwg17",
        "outputId": "cc6e6052-af38-4747-81e5-7e9a9aeef5c8"
      },
      "outputs": [
        {
          "name": "stdout",
          "output_type": "stream",
          "text": [
            "a is not equal to b\n"
          ]
        }
      ],
      "source": [
        "a=50\n",
        "b=45\n",
        "if a==b:\n",
        "  print (\"a is equal to b\")\n",
        "elif a!=b:\n",
        "   print (\"a is not equal to b\")\n",
        "else:\n",
        "   print (\"may be less or may be greater\")"
      ]
    },
    {
      "cell_type": "code",
      "execution_count": 13,
      "metadata": {
        "colab": {
          "base_uri": "https://localhost:8080/"
        },
        "id": "GqmD5-6nzfVW",
        "outputId": "af2a813c-e7ff-4763-ab87-f28fcc062f5f"
      },
      "outputs": [
        {
          "name": "stdout",
          "output_type": "stream",
          "text": [
            "you are eligible for votting\n",
            "Good bye\n"
          ]
        }
      ],
      "source": [
        "a=18\n",
        "if a==18:\n",
        "  print (\"you are eligible for votting\")\n",
        "elif a<=18:\n",
        "  print(\"you are not eligible\")\n",
        "print (\"Good bye\")"
      ]
    }
  ],
  "metadata": {
    "colab": {
      "authorship_tag": "ABX9TyPstNQvwYZM070UKcEF9xrW",
      "include_colab_link": true,
      "name": "ifelse.ipynb",
      "provenance": []
    },
    "kernelspec": {
      "display_name": "Python 3",
      "name": "python3"
    },
    "language_info": {
      "name": "python"
    }
  },
  "nbformat": 4,
  "nbformat_minor": 0
}
